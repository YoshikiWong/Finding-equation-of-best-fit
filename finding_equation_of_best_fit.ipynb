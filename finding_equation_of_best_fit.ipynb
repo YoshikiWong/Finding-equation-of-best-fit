{
 "cells": [
  {
   "cell_type": "code",
   "execution_count": 1,
   "id": "84c3f03f",
   "metadata": {},
   "outputs": [],
   "source": [
    "data = [(1,1.5),(2,3.8),(3,6.7),(4,9),(5,11.2),(6,13.6),(7,16)]"
   ]
  },
  {
   "cell_type": "code",
   "execution_count": 2,
   "id": "64f45cae",
   "metadata": {},
   "outputs": [
    {
     "name": "stdout",
     "output_type": "stream",
     "text": [
      "[1, 2, 3, 4, 5, 6, 7]\n",
      "[1.5, 3.8, 6.7, 9, 11.2, 13.6, 16]\n"
     ]
    }
   ],
   "source": [
    "#sort\n",
    "x = []\n",
    "y = []\n",
    "n = len(data)\n",
    "for i in range(0,len(data),1):\n",
    "    x.append(data[i][0])\n",
    "    y.append(data[i][1])\n",
    "print(x)\n",
    "print(y)"
   ]
  },
  {
   "cell_type": "code",
   "execution_count": 3,
   "id": "83850bcd",
   "metadata": {},
   "outputs": [
    {
     "name": "stdout",
     "output_type": "stream",
     "text": [
      "28\n"
     ]
    }
   ],
   "source": [
    "Sx = 0\n",
    "for i in range(0,n,1):\n",
    "    Sx = Sx + x[i]\n",
    "    \n",
    "print(Sx)"
   ]
  },
  {
   "cell_type": "code",
   "execution_count": 4,
   "id": "41c61691",
   "metadata": {},
   "outputs": [
    {
     "name": "stdout",
     "output_type": "stream",
     "text": [
      "61.800000000000004\n"
     ]
    }
   ],
   "source": [
    "Sy = 0\n",
    "for i in range(0,n,1):\n",
    "    Sy = Sy + y[i]\n",
    "    \n",
    "print(Sy)"
   ]
  },
  {
   "cell_type": "code",
   "execution_count": 5,
   "id": "ce9d9eb6",
   "metadata": {},
   "outputs": [
    {
     "name": "stdout",
     "output_type": "stream",
     "text": [
      "314.8\n"
     ]
    }
   ],
   "source": [
    "Sxy = 0\n",
    "for i in range(0,n,1):\n",
    "    Sxy += (x[i] * y[i])\n",
    "    \n",
    "print(Sxy)"
   ]
  },
  {
   "cell_type": "code",
   "execution_count": 6,
   "id": "2d8baf22",
   "metadata": {},
   "outputs": [
    {
     "name": "stdout",
     "output_type": "stream",
     "text": [
      "140\n"
     ]
    }
   ],
   "source": [
    "Sxp2 = 0\n",
    "for i in range(0,n,1):\n",
    "    Sxp2 += x[i]*x[i]\n",
    "print(Sxp2)"
   ]
  },
  {
   "cell_type": "code",
   "execution_count": 8,
   "id": "f18d84a8",
   "metadata": {},
   "outputs": [
    {
     "name": "stdout",
     "output_type": "stream",
     "text": [
      "784\n"
     ]
    }
   ],
   "source": [
    "eSx2 = 0\n",
    "eSx2 = Sx * Sx\n",
    "print(eSx2)"
   ]
  },
  {
   "cell_type": "code",
   "execution_count": 9,
   "id": "31d4e6c0",
   "metadata": {},
   "outputs": [
    {
     "data": {
      "text/plain": [
       "2.4142857142857133"
      ]
     },
     "execution_count": 9,
     "metadata": {},
     "output_type": "execute_result"
    }
   ],
   "source": [
    "m = (n*(Sxy)-Sx*(Sy))/(n*(Sxp2)-eSx2)\n",
    "m"
   ]
  },
  {
   "cell_type": "code",
   "execution_count": 10,
   "id": "35278762",
   "metadata": {},
   "outputs": [
    {
     "name": "stdout",
     "output_type": "stream",
     "text": [
      "-0.8285714285714245\n"
     ]
    }
   ],
   "source": [
    "c = 0\n",
    "for i in range(0,n,1):\n",
    "    c += y[i] - m*x[i]\n",
    "c = (1/n)*c\n",
    "print(c)"
   ]
  },
  {
   "cell_type": "code",
   "execution_count": 11,
   "id": "5d53d52b",
   "metadata": {},
   "outputs": [
    {
     "name": "stdout",
     "output_type": "stream",
     "text": [
      "equation of best fit:\n",
      "y =  2.4142857142857133 x +  -0.8285714285714245\n"
     ]
    }
   ],
   "source": [
    "print(\"equation of best fit:\")\n",
    "print(\"y = \", m,\"x + \",c)"
   ]
  },
  {
   "cell_type": "code",
   "execution_count": 14,
   "id": "60fd52ac",
   "metadata": {},
   "outputs": [
    {
     "data": {
      "image/png": "[encoded data removed]",
      "text/plain": [
       "<Figure size 640x480 with 1 Axes>"
      ]
     },
     "metadata": {},
     "output_type": "display_data"
    }
   ],
   "source": [
    "#graph\n",
    "\n",
    "import matplotlib.pyplot as plt\n",
    "import numpy as np\n",
    "\n",
    "\n",
    "\n",
    "# Equation of best fit\n",
    "def best_fit_line(x):\n",
    "    return 2.4142857142857133 * x + -0.8285714285714245\n",
    "\n",
    "# Generate x values for the best fit line\n",
    "x_fit = np.linspace(min(x), max(x), 100)\n",
    "y_fit = best_fit_line(x_fit)\n",
    "\n",
    "# Plotting the data points\n",
    "plt.scatter(x, y, color='blue', label='Data Points')\n",
    "\n",
    "# Plotting the best fit line\n",
    "plt.plot(x_fit, y_fit, color='red', label='Best Fit Line')\n",
    "\n",
    "# Adding title and labels\n",
    "plt.title('Data Points and Best Fit Line')\n",
    "plt.xlabel('X')\n",
    "plt.ylabel('Y')\n",
    "\n",
    "# Adding a legend\n",
    "plt.legend()\n",
    "\n",
    "# Show the plot\n",
    "plt.show()\n"
   ]
  },
  {
   "cell_type": "code",
   "execution_count": null,
   "id": "56b8088e",
   "metadata": {},
   "outputs": [],
   "source": []
  }
 ],
 "metadata": {
  "kernelspec": {
   "display_name": "Python 3 (ipykernel)",
   "language": "python",
   "name": "python3"
  },
  "language_info": {
   "codemirror_mode": {
    "name": "ipython",
    "version": 3
   },
   "file_extension": ".py",
   "mimetype": "text/x-python",
   "name": "python",
   "nbconvert_exporter": "python",
   "pygments_lexer": "ipython3",
   "version": "3.10.9"
  }
 },
 "nbformat": 4,
 "nbformat_minor": 5
}
